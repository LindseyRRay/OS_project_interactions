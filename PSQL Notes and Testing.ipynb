{
 "cells": [
  {
   "cell_type": "code",
   "execution_count": 9,
   "metadata": {},
   "outputs": [],
   "source": [
    "# connect to sqlite database\n",
    "from sqlalchemy import create_engine, MetaData\n",
    "from sqlalchemy.orm import sessionmaker\n",
    "from datetime import datetime\n",
    "from sqlalchemy.ext.declarative import declarative_base\n",
    "from sqlalchemy import Column, Integer, String, Text, TIMESTAMP, DATE, Boolean\n",
    "from sqlalchemy import ForeignKey\n",
    "from sqlalchemy.orm import relationship\n",
    "from sqlalchemy.ext.hybrid import hybrid_property\n",
    "from sqlalchemy import UniqueConstraint\n",
    "import funcy\n",
    "from sqlalchemy.engine.url import URL\n",
    "\n",
    "from sqlalchemy.dialects.postgresql import JSON\n",
    "\n",
    "import json\n",
    "import os\n"
   ]
  },
  {
   "cell_type": "markdown",
   "metadata": {},
   "source": [
    "### PSQL notes\n",
    "* local psql connects default to port 5432\n",
    "* make sure psql running in the backgroud\n",
    "* command to launch psql database in terminal is `psql postgres --dbname=<db_name> --host=localhost -U <user>`\n",
    "\n",
    "* after creating a database role, need to alter role to set user privileges to allow login `ALTER ROLE portal WITH LOGIN;`\n",
    "* Roles aren't automatically allowed to login, you can create user instead to do better\n",
    "* Useful code in postgres (after connecting to specific database)\n",
    " * `\\d+ <tablename>` to describe a table.\n",
    " * `\\dt` lists all tables in a database\n",
    " * `\\l` lists all database\n",
    " * ` SELECT * FROM pg_catalog.pg_tables WHERE schemaname != 'pg_catalog' AND schemaname != 'information_schema';` shows all tables \n",
    " * `SELECT count(*) AS exact_count FROM myschema.mytable;` to get a fast count of number of items in table\n",
    " * `DELETE FROM diff;DELETE FROM commit;DELETE FROM developer;` delete statement for this database (clears all data in tables without changing schema\n",
    " * `ALTER TABLE customers  ADD COLUMN contact_name VARCHAR;` Alter a table without changing the schema\n",
    " * `UPDATE customers SET contact_name = 'John Doe' WHERE ID = 1;` update values in the table directly\n",
    " * `\\?*` show command options\n",
    " * roles are kept in the pg_roles table\n",
    " * `\\du or \\du+` shows all users\n",
    " * `\\dn` lists all available schema\n",
    " * `\\df` lists all available functions\n",
    " * `\\s <filename>` shows command history and sends to a file, if this is blank, displays in terminal\n",
    " * `\\i filename` runs commands from a file \n",
    "    \n",
    "### Github Notes   \n",
    "to get repo info via command line `curl -H \"Authorization: OAUTH TOKEN\" https://api.github.com/repos/ipfs/js-ipfs`"
   ]
  },
  {
   "cell_type": "markdown",
   "metadata": {},
   "source": [
    "Note that when adding new objects to the psql database, if you don't commit them, because author and commmiter may be duplicates, you will end up with duplicates in the developer database and violate the uniqueness constraint on email, name. After creating and commiting each object one by one, I then set the relationships on the objects and call commit again to send those to the db"
   ]
  },
  {
   "cell_type": "code",
   "execution_count": null,
   "metadata": {},
   "outputs": [],
   "source": [
    "# clear data from tables\n",
    "def clear_tables(session):\n",
    "    for table in reversed(meta.sorted_tables):\n",
    "        print('Clear table ', table)\n",
    "        session.execute(table.delete())\n",
    "    session.commit()"
   ]
  },
  {
   "cell_type": "markdown",
   "metadata": {},
   "source": [
    "### References\n",
    "https://www.dataquest.io/blog/loading-data-into-postgres/ \n",
    "\n",
    "https://blog.codeship.com/unleash-the-power-of-storing-json-in-postgres/\n",
    "\n",
    "https://github.com/adamtornhill/code-maat/blob/master/src/code_maat/parsers/hiccup_based_parser.clj\n",
    "\n",
    "https://auth0.com/blog/sqlalchemy-orm-tutorial-for-python-developers/"
   ]
  },
  {
   "cell_type": "code",
   "execution_count": null,
   "metadata": {},
   "outputs": [],
   "source": []
  }
 ],
 "metadata": {
  "kernelspec": {
   "display_name": "Python 3",
   "language": "python",
   "name": "python3"
  },
  "language_info": {
   "codemirror_mode": {
    "name": "ipython",
    "version": 3
   },
   "file_extension": ".py",
   "mimetype": "text/x-python",
   "name": "python",
   "nbconvert_exporter": "python",
   "pygments_lexer": "ipython3",
   "version": "3.6.2"
  }
 },
 "nbformat": 4,
 "nbformat_minor": 2
}
