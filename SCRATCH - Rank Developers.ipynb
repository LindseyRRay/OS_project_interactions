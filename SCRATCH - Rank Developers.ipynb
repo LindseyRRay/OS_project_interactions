{
 "cells": [
  {
   "cell_type": "code",
   "execution_count": 1,
   "metadata": {},
   "outputs": [],
   "source": [
    "import funcy\n",
    "import numpy as np\n",
    "import pandas as pd\n",
    "import os\n",
    "import datetime\n",
    "\n",
    "\n",
    "from dev import (LOCAL_DB, DATA_DIR, DROPBOX_DIR, DEV_COLLAB_FNAME, DEV_CHANGES_FNAME, \n",
    "                         DEV_CONTR_BY_FILE_FNAME, DEV_RANKING_FNAME, RAW_FNAME)\n",
    "\n",
    "import matplotlib\n",
    "import matplotlib.pyplot as plt\n",
    "%matplotlib inline\n",
    "\n",
    "DATETIME_FMT = '%Y-%m-%d %H:%M:%S'"
   ]
  },
  {
   "cell_type": "code",
   "execution_count": 2,
   "metadata": {},
   "outputs": [],
   "source": [
    "# read in developer collab file with number/who people they worked with, first and last engagement\n",
    "# then add in total number of files edit, total only they worked on, total authored and commited\n",
    "\n",
    "# get average age of files they commited\n",
    "# total lines of code added/deleted\n",
    "# average code complexity/percentile relative to that file\n",
    "# do these all in percentiles as well and then rank by "
   ]
  },
  {
   "cell_type": "code",
   "execution_count": 7,
   "metadata": {},
   "outputs": [],
   "source": [
    "df3 = pd.read_csv(os.path.join(DROPBOX_DIR, RAW_FNAME), DEV_Co)\n",
    "del df3['Unnamed: 0']"
   ]
  },
  {
   "cell_type": "code",
   "execution_count": 14,
   "metadata": {},
   "outputs": [],
   "source": [
    "# convert timestamp to a time value\n",
    "df3['timestamp'] = df3.timestamp.apply(lambda x: pd.datetime.strptime(x, DATETIME_FMT))\n"
   ]
  },
  {
   "cell_type": "code",
   "execution_count": 29,
   "metadata": {},
   "outputs": [],
   "source": [
    "def get_file_dev_stats(df, as_of_date):\n",
    "    # as of date should be a datetime object\n",
    "    # get number of additions/deletions to each file as of a certian date\n",
    "    # this creates what was previously known of as the FILE_STATS_FNAME file\n",
    "    time_mask = df.timestamp < pd.datetime.strptime(as_of_date, '%Y-%m-%d')\n",
    "    # subset dataframe into everything prior to date\n",
    "    df3 = df[time_mask]\n",
    "    # this will be merged into first_dev data set that tells us about the first author and commiter for each file\n",
    "    # as well as number of unique developers, commiters and lines added per file\n",
    "    file_dev = df3.sort_values(\n",
    "        ['canonical_name', 'author_id', 'timestamp']).groupby(['canonical_name']).agg({\n",
    "        'author_id': 'nunique', 'commiter_id': 'nunique', \n",
    "        'additions': np.sum, 'deletions': np.sum,  'net_change': np.sum, 'code_complexity_max': np.max, \n",
    "        'timestamp': np.max}\n",
    "            ).rename(columns={\n",
    "            'author_id': 'distinct_authors','commiter_id': 'num_unique_commiters',\n",
    "            'additions': 'total_additions', 'deletions': 'total_deletions',\n",
    "            'net_change': 'total_code', 'code_complexity_max': 'file_level_code_complexity_max', \n",
    "            'timestamp': 'time_last_change'})\n",
    "    \n",
    "    # then, for each author on the file, count their contribution to the file\n",
    "    file_dev_lines = df3.sort_values(\n",
    "            ['canonical_name', 'author_id', 'timestamp']).groupby(['canonical_name', 'author_id']).agg({\n",
    "            'additions': np.sum, 'deletions': np.sum,  'net_change': np.sum, 'code_complexity_max': np.max,\n",
    "            'timestamp': np.max}).rename(columns={\n",
    "            'timestamp': 'time_author_last_change',\n",
    "    })\n",
    "    # merge file level stats with file-author level stats\n",
    "    file_stats2 = file_dev_lines.merge(right=file_dev, left_index=True, right_index=True, how='outer')\n",
    "    print('file level stats shape ', file_dev.shape)\n",
    "    print('file author level stats shape ', file_dev_lines.shape)\n",
    "    print('merged file shape ', file_stats2.shape)\n",
    "    \n",
    "    # count files solo authored by each developer\n",
    "    file_stats2['solo_authored'] = 0\n",
    "    file_stats2.loc[file_stats2.distinct_authors==1, 'solo_authored'] = 1\n",
    "\n",
    "    # count files where author has authored the max complexity\n",
    "    file_stats2['authored_max_complexity'] = 0\n",
    "    file_stats2.loc[((file_stats2.code_complexity_max==file_stats2.file_level_code_complexity_max) & (\n",
    "        file_stats2.file_level_code_complexity_max > 0)), 'authored_max_complexity'] = 1\n",
    "\n",
    "    # calculate percent of additions each person has contributed, fill missing with 0s\n",
    "    file_stats2['pct_additions'] = file_stats2['additions']*100.0/file_stats2['total_additions']\n",
    "    file_stats2['pct_deletions'] = file_stats2['deletions']*100.0/file_stats2['total_deletions']\n",
    "    file_stats2[['pct_additions', 'pct_deletions']] = file_stats2[['pct_additions', 'pct_deletions']].fillna(0)\n",
    "\n",
    "    # flag for more than 50% additions/deletions\n",
    "    file_stats2['more_than_50pct_additions'] = file_stats2.pct_additions.apply(lambda x: 1 if x > 50 else 0)\n",
    "    file_stats2['more_than_50pct_deletions'] = file_stats2.pct_deletions.apply(lambda x: 1 if x > 50 else 0)\n",
    "    \n",
    "    # calculate if person was the last to change a file\n",
    "    file_stats2['last_change'] = file_stats2.apply(\n",
    "        lambda x: 1 if x.time_author_last_change==x.time_last_change else 0, axis=1)\n",
    "    # calculate age of the file since last change\n",
    "    file_stats2['file_age'] = file_stats2['time_last_change'].apply(lambda x: (pd.datetime.now() - x).days)\n",
    "    return file_stats2\n"
   ]
  },
  {
   "cell_type": "code",
   "execution_count": 30,
   "metadata": {},
   "outputs": [
    {
     "name": "stdout",
     "output_type": "stream",
     "text": [
      "file level stats shape  (930, 7)\n",
      "file author level stats shape  (1942, 5)\n",
      "merged file shape  (1942, 12)\n"
     ]
    }
   ],
   "source": [
    "dev_file = get_file_dev_stats(df3, '2018-07-01')"
   ]
  },
  {
   "cell_type": "code",
   "execution_count": null,
   "metadata": {},
   "outputs": [],
   "source": []
  },
  {
   "cell_type": "code",
   "execution_count": null,
   "metadata": {},
   "outputs": [],
   "source": []
  },
  {
   "cell_type": "code",
   "execution_count": null,
   "metadata": {},
   "outputs": [],
   "source": [
    "dev_collab = pd.read_csv(os.path.join(DROPBOX_DIR, DEV_COLLAB_FNAME))"
   ]
  },
  {
   "cell_type": "code",
   "execution_count": null,
   "metadata": {},
   "outputs": [],
   "source": []
  },
  {
   "cell_type": "code",
   "execution_count": null,
   "metadata": {},
   "outputs": [],
   "source": [
    "dev_changes = pd.read_csv(os.path.join(DROPBOX_DIR, DEV_CHANGES_FNAME))"
   ]
  },
  {
   "cell_type": "code",
   "execution_count": null,
   "metadata": {},
   "outputs": [],
   "source": [
    "# take total number of solo authored, files with max complexity, more than 50pct additions,\n",
    "# more than 50 pct deletions, last change average pct additions, \n",
    "# avg pct deletions, file age, advg distinct authors\n",
    "dev_file2 = dev_file.sort_values(['author_id', 'canonical_name']).groupby('author_id').agg({\n",
    "    'canonical_name': 'nunique', 'distinct_authors': np.mean, 'pct_additions': np.mean,\n",
    "    'pct_deletions': np.mean, \n",
    "    'file_age': np.mean,\n",
    "    'solo_authored': np.sum, 'authored_max_complexity': np.sum, 'more_than_50pct_additions': np.sum,\n",
    "    'more_than_50pct_deletions': np.sum, 'last_change': np.sum, \n",
    "}).rename(columns={'canonical_name': 'number_different_files_changed', 'distinct_authors': 'avg_num_distinct_authors_per_file',\n",
    "                  'pct_additions': 'average_pct_additions', 'pct_deletions': 'avg_pct_deletions', 'file_age': 'avg_file_age',\n",
    "                  'solo_authored': 'total_files_solo_authored', 'authored_max_complexity': 'total_files_with_max_complexity',\n",
    "                  'more_than_50pct_additions': 'total_files_more_than_50pct_additions', \n",
    "                  'more_than_50pct_deletions': 'total_files_more_than_50pct_deletions', 'last_change': 'total_files_with_last_change'})"
   ]
  },
  {
   "cell_type": "code",
   "execution_count": null,
   "metadata": {},
   "outputs": [],
   "source": [
    "# only keep developer leve info (the cum_total_<> vars are for repo at this time)\n",
    "dev_max = dev_changes.sort_values(['author_id', 'timestamp']).groupby('author_id').agg(\n",
    "    {'author_id': 'count', 'total_additions': np.sum, 'total_deletions': np.sum,\n",
    "       'average_net_change': np.mean, 'mean_of_code_complexity_median': np.mean, 'code_complexity_max': np.mean,\n",
    "       'num_unique_files_changed': np.mean, 'num_edit_locations': np.mean, 'num_renames': np.sum,\n",
    "       'num_deletions': np.sum, 'num_new_files':np.sum, 'net_code': np.mean})"
   ]
  },
  {
   "cell_type": "code",
   "execution_count": null,
   "metadata": {},
   "outputs": [],
   "source": [
    "dev_max2 = dev_max.rename(columns={\n",
    "    'author_id': 'total_diffs', 'num_unique_files_changed': 'avg_num_unique_files_changed',\n",
    "    'code_complexity_max': 'average_max_code_complexity',\n",
    "    'num_edit_locations': 'avg_num_edit_locations', 'net_code':'avg_net_code_per_diff'})"
   ]
  },
  {
   "cell_type": "code",
   "execution_count": null,
   "metadata": {},
   "outputs": [],
   "source": [
    "dev2 = dev_max2.merge(right=dev_collab.set_index('author_id'), left_index=True, right_index=True, how='outer')"
   ]
  },
  {
   "cell_type": "code",
   "execution_count": null,
   "metadata": {},
   "outputs": [],
   "source": [
    "dev2"
   ]
  },
  {
   "cell_type": "code",
   "execution_count": null,
   "metadata": {},
   "outputs": [],
   "source": [
    "dev2['num_other_commiters'] = dev2.people_who_committer_their_commits.apply(lambda x: len(x))\n",
    "dev2['num_other_authors'] = dev2.people_who_authored_commits_they_commited.apply(lambda x: len(x))\n",
    "\n",
    "dev2[['first_author_engagement', 'last_author_engagement', 'first_commiter_engagement',\n",
    "       'last_commiter_engagement']] = dev2[['first_author_engagement', 'last_author_engagement', 'first_commiter_engagement',\n",
    "       'last_commiter_engagement']].applymap(lambda x: np.NAN if pd.isnull(x) else pd.datetime.strptime(x, DATETIME_FMT))\n",
    "\n",
    "dev2['len_author_engagement'] = dev2['last_author_engagement'] - dev2['first_author_engagement']\n",
    "dev2['len_commiter_engagement'] = dev2['last_commiter_engagement'] - dev2['first_commiter_engagement']\n",
    "\n",
    "dev2[['total_diffs', 'total_additions', 'total_deletions',\n",
    "       'average_net_change', 'mean_of_code_complexity_median',\n",
    "       'avg_num_unique_files_changed', 'avg_num_edit_locations', 'num_renames',\n",
    "       'num_deletions', 'num_new_files', 'avg_net_code_per_diff',    \n",
    "       'num_authored_commits',  'num_commiter_commits',\n",
    "        'num_other_commiters', 'num_other_authors']] = dev2[['total_diffs', 'total_additions', 'total_deletions',\n",
    "       'average_net_change', 'mean_of_code_complexity_median',\n",
    "       'avg_num_unique_files_changed', 'avg_num_edit_locations', 'num_renames',\n",
    "       'num_deletions', 'num_new_files', 'avg_net_code_per_diff',    \n",
    "       'num_authored_commits',  'num_commiter_commits',\n",
    "        'num_other_commiters', 'num_other_authors']].fillna(0)\n"
   ]
  },
  {
   "cell_type": "code",
   "execution_count": null,
   "metadata": {},
   "outputs": [],
   "source": [
    "def get_first_engagement(x):\n",
    "    comm = x['first_commiter_engagement']\n",
    "    auth = x['first_author_engagement']\n",
    "    if pd.isnull(comm):\n",
    "        return 'auth'\n",
    "    if pd.isnull(auth) or comm < auth:\n",
    "        return 'comm'\n",
    "    return 'auth'\n",
    "  \n",
    "\n",
    "def get_last_engagement(x):\n",
    "    comm = x['last_commiter_engagement']\n",
    "    auth = x['last_author_engagement']\n",
    "    if pd.isnull(comm):\n",
    "        return 'auth'\n",
    "    if pd.isnull(auth) or comm > auth:\n",
    "        return 'comm'\n",
    "    return 'auth'\n",
    "\n",
    "\n",
    "def get_time_engaged(x):\n",
    "    zero = datetime.datetime.strptime('2000-01-01 00:00:00',DATETIME_FMT )\n",
    "    first = np.nanmin(x[['first_commiter_engagement', 'first_author_engagement']].fillna(pd.datetime.now()))\n",
    "    last = np.nanmax(x[['last_commiter_engagement', 'last_author_engagement']].fillna(zero))\n",
    "    if pd.isnull(first) and pd.isnull(last):\n",
    "        return np.nan\n",
    "    diff = last-first\n",
    "    return diff.astype('timedelta64[D]')\n",
    "    print(diff)\n",
    "    return diff.days"
   ]
  },
  {
   "cell_type": "code",
   "execution_count": null,
   "metadata": {},
   "outputs": [],
   "source": [
    "dev3 = dev2.merge(right=dev_file2, left_index=True, right_index=True, how='left')"
   ]
  },
  {
   "cell_type": "code",
   "execution_count": null,
   "metadata": {},
   "outputs": [],
   "source": [
    "# dev4['rank'] = dev4['avg_rank'].rank()\n",
    "dev3['type_first_engagement'] = dev3.apply(get_first_engagement, axis=1)\n",
    "dev3['type_last_engagement'] = dev3.apply(get_last_engagement, axis=1)\n",
    "dev3['days_involved'] = dev3.apply(get_time_engaged, axis=1)"
   ]
  },
  {
   "cell_type": "code",
   "execution_count": null,
   "metadata": {},
   "outputs": [],
   "source": [
    "print(dev_max2.shape)\n",
    "print(dev_collab.shape)\n",
    "print(dev2.shape)\n",
    "print(dev_file2.shape)\n",
    "print(dev3.shape)"
   ]
  },
  {
   "cell_type": "code",
   "execution_count": null,
   "metadata": {},
   "outputs": [],
   "source": [
    "to_rank_cols = [c for c in dev3.columns if not c.endswith('_engagement') and not c.startswith('people_') and c not in ('email', 'name')]"
   ]
  },
  {
   "cell_type": "code",
   "execution_count": null,
   "metadata": {},
   "outputs": [],
   "source": [
    "# note that we use ascending = False becase we want people iwth largest number of things to get higher ranks\n",
    "ranks = dev3[to_rank_cols].apply(lambda x: x.rank(ascending=False), axis=0)"
   ]
  },
  {
   "cell_type": "code",
   "execution_count": null,
   "metadata": {},
   "outputs": [],
   "source": [
    "ranks.columns = ['rank_{}'.format(x) for x in ranks.columns]"
   ]
  },
  {
   "cell_type": "code",
   "execution_count": null,
   "metadata": {},
   "outputs": [],
   "source": [
    "dev4 = dev3.merge(ranks, left_index=True, right_index=True, how='outer')"
   ]
  },
  {
   "cell_type": "code",
   "execution_count": null,
   "metadata": {},
   "outputs": [],
   "source": [
    "# axis=1 apply function to each row\n",
    "dev4['avg_rank'] = dev4[[c for c in dev4.columns if c.startswith('rank_')]].apply(np.mean, axis=1)\n",
    "dev4['rank'] = dev4.avg_rank.rank()"
   ]
  },
  {
   "cell_type": "code",
   "execution_count": null,
   "metadata": {},
   "outputs": [],
   "source": [
    "dev4.sort_values('rank', ascending=True).to_csv(os.path.join(DROPBOX_DIR, DEV_RANKING_FNAME))"
   ]
  },
  {
   "cell_type": "code",
   "execution_count": null,
   "metadata": {},
   "outputs": [],
   "source": [
    "dev4.columns"
   ]
  },
  {
   "cell_type": "markdown",
   "metadata": {},
   "source": [
    "## Developer Ranking by Code Contribution\n",
    "\n",
    "* rank column - this is a developer's overall rank by contributions to the specific repository\n",
    "* todal diffs - total number of diffs committed to the repo\n",
    "* total_additions - total number of lines added to the code base\n",
    "* total_deletions - total lines deleted from the code base\n",
    "* average_net_change - average net change by lines of code in their contributions\n",
    "* mean_of_code_complexity_median - average median code complexity of lines added\n",
    "* average_max_code_complexity - average (per diff) of the max code complexity of lines added\n",
    "* avg_num_unique_files_changed - average unique files changed per diff\n",
    "* avg_num_edit_locations - average edit locations per diff. Can be interpreted as number of unique code changes per diff\n",
    "* num_renames - number of files renamed\n",
    "* num_deletions - number of files deleted\n",
    "* num_new_files - number of files created\n",
    "* avg_net_code_per_diff - average additions-deletions of code per diff\n",
    "* first_author_engagement - date of first engagement as a commit author with repo\n",
    "* last_author_engagement - date of last engagement as a commit author with repo\n",
    "* num_authored_commits - number of commits authored \n",
    "* first_commiter_engagement - date of first engagement as a committer with repo\n",
    "* last_commiter_engagement - date of last engagement as a committer with repo\n",
    "* num_commiter_commits - number of commits committed\n",
    "* people_who_committer_their_commits' - list of author ids of distinct people who committed commits they authored\n",
    "* people_who_authored_commits_they_commited' - ids of distinct people who authored commits they commited\n",
    "* email - github account email\n",
    "* name - github account name\n",
    "* num_other_commiters - number of people who commited things they authored\n",
    "* num_other_authors - number of people who authored commits they commited\n",
    "* len_author_engagement - time in days between first and last engagement as commit author\n",
    "* len_commiter_engagement - length of time in days of engagement as a commiter\n",
    "* number_different_files_changed - total number of different files changed\n",
    "* avg_num_distinct_authors_per_file - for files they changed, average number of developers contributing to that file\n",
    "* average_pct_additions - for files they have worked on, average percent of total lines they added\n",
    "* avg_pct_deletions - for files they have worked on, average percent of total lines they deleted\n",
    "* avg_file_age - average days since file they worked on was last changed\n",
    "* total_files_solo_authored - total number of files they are solo author of\n",
    "* total_files_with_max_complexity - total number of files they contributed code equal to the max complexity of the file\n",
    "* total_files_more_than_50pct_additions - total number of files where they contributed more than 50% of the code\n",
    "* total_files_more_than_50pct_deletions- total number of files where they deleted more than 50% of the code\n",
    "* total_files_with_last_change - total number of files where their change was last one\n",
    "* type_first_engagement - first type of engagement (as author or commiter)\n",
    "* type_last_engagement - last type of engagement (as author or commiter)\n",
    "* time_involved - days between first/last engagement of any type\n",
    "       \n",
    "  \n",
    "  \n",
    "After computing these numerical stats, I rank each developer on the stat, then I take an equal weighted average of the ranks for the \"avg_rank\") and then rank developers on their average rank to figure out who has the best constribution over time. "
   ]
  },
  {
   "cell_type": "code",
   "execution_count": null,
   "metadata": {},
   "outputs": [],
   "source": []
  }
 ],
 "metadata": {
  "kernelspec": {
   "display_name": "Python 3",
   "language": "python",
   "name": "python3"
  },
  "language_info": {
   "codemirror_mode": {
    "name": "ipython",
    "version": 3
   },
   "file_extension": ".py",
   "mimetype": "text/x-python",
   "name": "python",
   "nbconvert_exporter": "python",
   "pygments_lexer": "ipython3",
   "version": "3.6.2"
  }
 },
 "nbformat": 4,
 "nbformat_minor": 2
}
